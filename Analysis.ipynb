{
 "cells": [
  {
   "cell_type": "markdown",
   "id": "781047f4-156e-414a-b2e8-c5da4e076c51",
   "metadata": {},
   "source": [
    "# 라이브러리 및 데이터 불러오기"
   ]
  },
  {
   "cell_type": "code",
   "execution_count": 1,
   "id": "d82c34e0-aec2-420a-bc51-078e5af15bff",
   "metadata": {},
   "outputs": [],
   "source": [
    "import pandas as pd\n",
    "from scipy import stats\n",
    "from scipy.stats import chi2_contingency"
   ]
  },
  {
   "cell_type": "code",
   "execution_count": 2,
   "id": "d49ff3de-c29b-4b66-92ef-14378c7ed733",
   "metadata": {},
   "outputs": [],
   "source": [
    "df = pd.read_csv(\"./data/preprocessed_cookie_cat.csv\")"
   ]
  },
  {
   "cell_type": "code",
   "execution_count": 3,
   "id": "c6af2dc9-6179-4746-8f8a-f8845986f700",
   "metadata": {},
   "outputs": [
    {
     "name": "stdout",
     "output_type": "stream",
     "text": [
      "<class 'pandas.core.frame.DataFrame'>\n",
      "RangeIndex: 25000 entries, 0 to 24999\n",
      "Data columns (total 7 columns):\n",
      " #   Column           Non-Null Count  Dtype \n",
      "---  ------           --------------  ----- \n",
      " 0   Unnamed: 0       25000 non-null  int64 \n",
      " 1   userid           25000 non-null  int64 \n",
      " 2   version          25000 non-null  object\n",
      " 3   sum_gamerounds   25000 non-null  int64 \n",
      " 4   retention_1      25000 non-null  bool  \n",
      " 5   retention_7      25000 non-null  bool  \n",
      " 6   gameround_group  25000 non-null  object\n",
      "dtypes: bool(2), int64(3), object(2)\n",
      "memory usage: 1.0+ MB\n"
     ]
    }
   ],
   "source": [
    "df.info()"
   ]
  },
  {
   "cell_type": "code",
   "execution_count": 4,
   "id": "3830fda6-510a-4cb7-a650-774a941212c3",
   "metadata": {},
   "outputs": [
    {
     "data": {
      "text/html": [
       "<div>\n",
       "<style scoped>\n",
       "    .dataframe tbody tr th:only-of-type {\n",
       "        vertical-align: middle;\n",
       "    }\n",
       "\n",
       "    .dataframe tbody tr th {\n",
       "        vertical-align: top;\n",
       "    }\n",
       "\n",
       "    .dataframe thead th {\n",
       "        text-align: right;\n",
       "    }\n",
       "</style>\n",
       "<table border=\"1\" class=\"dataframe\">\n",
       "  <thead>\n",
       "    <tr style=\"text-align: right;\">\n",
       "      <th></th>\n",
       "      <th>Unnamed: 0</th>\n",
       "      <th>userid</th>\n",
       "      <th>version</th>\n",
       "      <th>sum_gamerounds</th>\n",
       "      <th>retention_1</th>\n",
       "      <th>retention_7</th>\n",
       "      <th>gameround_group</th>\n",
       "    </tr>\n",
       "  </thead>\n",
       "  <tbody>\n",
       "    <tr>\n",
       "      <th>0</th>\n",
       "      <td>1</td>\n",
       "      <td>337</td>\n",
       "      <td>gate_30</td>\n",
       "      <td>38</td>\n",
       "      <td>True</td>\n",
       "      <td>False</td>\n",
       "      <td>A</td>\n",
       "    </tr>\n",
       "    <tr>\n",
       "      <th>1</th>\n",
       "      <td>2</td>\n",
       "      <td>377</td>\n",
       "      <td>gate_40</td>\n",
       "      <td>165</td>\n",
       "      <td>True</td>\n",
       "      <td>False</td>\n",
       "      <td>N</td>\n",
       "    </tr>\n",
       "    <tr>\n",
       "      <th>2</th>\n",
       "      <td>4</td>\n",
       "      <td>488</td>\n",
       "      <td>gate_40</td>\n",
       "      <td>179</td>\n",
       "      <td>True</td>\n",
       "      <td>True</td>\n",
       "      <td>O</td>\n",
       "    </tr>\n",
       "    <tr>\n",
       "      <th>3</th>\n",
       "      <td>5</td>\n",
       "      <td>540</td>\n",
       "      <td>gate_40</td>\n",
       "      <td>187</td>\n",
       "      <td>True</td>\n",
       "      <td>True</td>\n",
       "      <td>P</td>\n",
       "    </tr>\n",
       "    <tr>\n",
       "      <th>4</th>\n",
       "      <td>8</td>\n",
       "      <td>1574</td>\n",
       "      <td>gate_40</td>\n",
       "      <td>108</td>\n",
       "      <td>True</td>\n",
       "      <td>True</td>\n",
       "      <td>H</td>\n",
       "    </tr>\n",
       "    <tr>\n",
       "      <th>...</th>\n",
       "      <td>...</td>\n",
       "      <td>...</td>\n",
       "      <td>...</td>\n",
       "      <td>...</td>\n",
       "      <td>...</td>\n",
       "      <td>...</td>\n",
       "      <td>...</td>\n",
       "    </tr>\n",
       "    <tr>\n",
       "      <th>24995</th>\n",
       "      <td>90171</td>\n",
       "      <td>9997757</td>\n",
       "      <td>gate_30</td>\n",
       "      <td>84</td>\n",
       "      <td>True</td>\n",
       "      <td>False</td>\n",
       "      <td>F</td>\n",
       "    </tr>\n",
       "    <tr>\n",
       "      <th>24996</th>\n",
       "      <td>90175</td>\n",
       "      <td>9998125</td>\n",
       "      <td>gate_30</td>\n",
       "      <td>30</td>\n",
       "      <td>False</td>\n",
       "      <td>False</td>\n",
       "      <td>A</td>\n",
       "    </tr>\n",
       "    <tr>\n",
       "      <th>24997</th>\n",
       "      <td>90177</td>\n",
       "      <td>9998376</td>\n",
       "      <td>gate_40</td>\n",
       "      <td>53</td>\n",
       "      <td>False</td>\n",
       "      <td>False</td>\n",
       "      <td>C</td>\n",
       "    </tr>\n",
       "    <tr>\n",
       "      <th>24998</th>\n",
       "      <td>90184</td>\n",
       "      <td>9999441</td>\n",
       "      <td>gate_40</td>\n",
       "      <td>97</td>\n",
       "      <td>True</td>\n",
       "      <td>False</td>\n",
       "      <td>G</td>\n",
       "    </tr>\n",
       "    <tr>\n",
       "      <th>24999</th>\n",
       "      <td>90187</td>\n",
       "      <td>9999768</td>\n",
       "      <td>gate_40</td>\n",
       "      <td>51</td>\n",
       "      <td>True</td>\n",
       "      <td>False</td>\n",
       "      <td>C</td>\n",
       "    </tr>\n",
       "  </tbody>\n",
       "</table>\n",
       "<p>25000 rows × 7 columns</p>\n",
       "</div>"
      ],
      "text/plain": [
       "       Unnamed: 0   userid  version  sum_gamerounds  retention_1  retention_7  \\\n",
       "0               1      337  gate_30              38         True        False   \n",
       "1               2      377  gate_40             165         True        False   \n",
       "2               4      488  gate_40             179         True         True   \n",
       "3               5      540  gate_40             187         True         True   \n",
       "4               8     1574  gate_40             108         True         True   \n",
       "...           ...      ...      ...             ...          ...          ...   \n",
       "24995       90171  9997757  gate_30              84         True        False   \n",
       "24996       90175  9998125  gate_30              30        False        False   \n",
       "24997       90177  9998376  gate_40              53        False        False   \n",
       "24998       90184  9999441  gate_40              97         True        False   \n",
       "24999       90187  9999768  gate_40              51         True        False   \n",
       "\n",
       "      gameround_group  \n",
       "0                   A  \n",
       "1                   N  \n",
       "2                   O  \n",
       "3                   P  \n",
       "4                   H  \n",
       "...               ...  \n",
       "24995               F  \n",
       "24996               A  \n",
       "24997               C  \n",
       "24998               G  \n",
       "24999               C  \n",
       "\n",
       "[25000 rows x 7 columns]"
      ]
     },
     "execution_count": 4,
     "metadata": {},
     "output_type": "execute_result"
    }
   ],
   "source": [
    "df"
   ]
  },
  {
   "cell_type": "markdown",
   "id": "0d0cb195-474b-40a0-8445-8a1ce3ef1cc9",
   "metadata": {},
   "source": [
    "# gate_30 / gate_40 - Paired Sample T-Test"
   ]
  },
  {
   "cell_type": "markdown",
   "id": "243b0bba-d3d0-4807-b10b-9b51e23138a5",
   "metadata": {},
   "source": [
    "$$H_{0}: \\mu_{30}-\\mu_{40}=0$$\n",
    "$$H_{a}: \\mu_{30}-\\mu_{40}\\neq0$$"
   ]
  },
  {
   "cell_type": "markdown",
   "id": "a85df2e3-dea9-4d9e-ab56-2c00eba9f6a9",
   "metadata": {},
   "source": [
    "## 등분산 검정"
   ]
  },
  {
   "cell_type": "code",
   "execution_count": 5,
   "id": "e78dbd92-735c-4223-89d5-970cd98fd7d1",
   "metadata": {},
   "outputs": [],
   "source": [
    "gate_30_rounds = df[df[\"version\"] == \"gate_30\"][\"sum_gamerounds\"]\n",
    "gate_40_rounds = df[df[\"version\"] == \"gate_40\"][\"sum_gamerounds\"]"
   ]
  },
  {
   "cell_type": "code",
   "execution_count": 6,
   "id": "b677eae2-d04b-4cc9-9bb3-17d64b859fe6",
   "metadata": {},
   "outputs": [],
   "source": [
    "_,p_value_levene = stats.levene(gate_30_rounds, gate_40_rounds)"
   ]
  },
  {
   "cell_type": "code",
   "execution_count": 7,
   "id": "ae0ca3c9-7628-4206-afd1-2496c80fab56",
   "metadata": {},
   "outputs": [
    {
     "name": "stdout",
     "output_type": "stream",
     "text": [
      "0.3510470259494839 등분산 가정 만족\n"
     ]
    }
   ],
   "source": [
    "if p_value_levene > 0.05:\n",
    "    print(p_value_levene, \"등분산 가정 만족\")\n",
    "else:\n",
    "    print(p_value_levene, \"이분산 가정 만족\")"
   ]
  },
  {
   "cell_type": "markdown",
   "id": "6e9f6cc2-5f1d-4444-aaea-0d1e695fadb3",
   "metadata": {},
   "source": [
    "## T-Test 수행"
   ]
  },
  {
   "cell_type": "code",
   "execution_count": 8,
   "id": "5e00c719-ec3b-4b1d-8285-e2e301121ca3",
   "metadata": {},
   "outputs": [],
   "source": [
    "t, p_value = stats.ttest_ind(\n",
    "    a = gate_30_rounds,\n",
    "    b = gate_40_rounds,\n",
    "    alternative = \"two-sided\",\n",
    "    equal_var = True\n",
    ")"
   ]
  },
  {
   "cell_type": "code",
   "execution_count": 9,
   "id": "8ff359ed-bc34-4ac3-9cd6-e313c9e1a854",
   "metadata": {},
   "outputs": [
    {
     "name": "stdout",
     "output_type": "stream",
     "text": [
      "p-value : 7.396046609212658e-121\n",
      "귀무가설 기각 : True\n"
     ]
    }
   ],
   "source": [
    "print(f\"p-value : {p_value}\")\n",
    "print(f\"귀무가설 기각 : {p_value < 0.05}\")"
   ]
  },
  {
   "cell_type": "markdown",
   "id": "614aeb79-808d-43f5-9ccb-2872348b2635",
   "metadata": {},
   "source": [
    "# version / retention_1 - Chi Square Test"
   ]
  },
  {
   "cell_type": "markdown",
   "id": "f600f103-6d55-4bd4-8d65-6496e3d19f6f",
   "metadata": {},
   "source": [
    "귀무가설 : version 과 retention_1은 독립이다.  \n",
    "대립가설 : version 과 retention_1은 독립이 아니다."
   ]
  },
  {
   "cell_type": "markdown",
   "id": "c368c3f2-0d27-424f-9934-5b7a86bb2b16",
   "metadata": {},
   "source": [
    "## 분할표 및 상대 도수 분할표 그리기"
   ]
  },
  {
   "cell_type": "code",
   "execution_count": 10,
   "id": "dd1f8646-60f3-4514-b938-d637a44324d7",
   "metadata": {},
   "outputs": [],
   "source": [
    "retention_1_c_table = pd.crosstab(df[\"version\"], df[\"retention_1\"],\n",
    "                     margins = True)"
   ]
  },
  {
   "cell_type": "code",
   "execution_count": 14,
   "id": "fd734c5a-a7ab-4304-8f98-b3895eb94dac",
   "metadata": {},
   "outputs": [
    {
     "data": {
      "text/html": [
       "<div>\n",
       "<style scoped>\n",
       "    .dataframe tbody tr th:only-of-type {\n",
       "        vertical-align: middle;\n",
       "    }\n",
       "\n",
       "    .dataframe tbody tr th {\n",
       "        vertical-align: top;\n",
       "    }\n",
       "\n",
       "    .dataframe thead th {\n",
       "        text-align: right;\n",
       "    }\n",
       "</style>\n",
       "<table border=\"1\" class=\"dataframe\">\n",
       "  <thead>\n",
       "    <tr style=\"text-align: right;\">\n",
       "      <th>retention_1</th>\n",
       "      <th>False</th>\n",
       "      <th>True</th>\n",
       "      <th>All</th>\n",
       "    </tr>\n",
       "    <tr>\n",
       "      <th>version</th>\n",
       "      <th></th>\n",
       "      <th></th>\n",
       "      <th></th>\n",
       "    </tr>\n",
       "  </thead>\n",
       "  <tbody>\n",
       "    <tr>\n",
       "      <th>gate_30</th>\n",
       "      <td>3143</td>\n",
       "      <td>10784</td>\n",
       "      <td>13927</td>\n",
       "    </tr>\n",
       "    <tr>\n",
       "      <th>gate_40</th>\n",
       "      <td>2158</td>\n",
       "      <td>8915</td>\n",
       "      <td>11073</td>\n",
       "    </tr>\n",
       "    <tr>\n",
       "      <th>All</th>\n",
       "      <td>5301</td>\n",
       "      <td>19699</td>\n",
       "      <td>25000</td>\n",
       "    </tr>\n",
       "  </tbody>\n",
       "</table>\n",
       "</div>"
      ],
      "text/plain": [
       "retention_1  False   True    All\n",
       "version                         \n",
       "gate_30       3143  10784  13927\n",
       "gate_40       2158   8915  11073\n",
       "All           5301  19699  25000"
      ]
     },
     "execution_count": 14,
     "metadata": {},
     "output_type": "execute_result"
    }
   ],
   "source": [
    "retention_1_c_table"
   ]
  },
  {
   "cell_type": "code",
   "execution_count": 12,
   "id": "6fe2a8f3-6a32-423f-b790-68f1bf2ed3ca",
   "metadata": {},
   "outputs": [],
   "source": [
    "retention_1_rfc_table = pd.crosstab(df[\"version\"], df[\"retention_1\"],\n",
    "                        margins = True, normalize = True)"
   ]
  },
  {
   "cell_type": "code",
   "execution_count": 15,
   "id": "6e765077-b65e-4d67-a59a-e52f001127ff",
   "metadata": {},
   "outputs": [
    {
     "data": {
      "text/html": [
       "<div>\n",
       "<style scoped>\n",
       "    .dataframe tbody tr th:only-of-type {\n",
       "        vertical-align: middle;\n",
       "    }\n",
       "\n",
       "    .dataframe tbody tr th {\n",
       "        vertical-align: top;\n",
       "    }\n",
       "\n",
       "    .dataframe thead th {\n",
       "        text-align: right;\n",
       "    }\n",
       "</style>\n",
       "<table border=\"1\" class=\"dataframe\">\n",
       "  <thead>\n",
       "    <tr style=\"text-align: right;\">\n",
       "      <th>retention_1</th>\n",
       "      <th>False</th>\n",
       "      <th>True</th>\n",
       "      <th>All</th>\n",
       "    </tr>\n",
       "    <tr>\n",
       "      <th>version</th>\n",
       "      <th></th>\n",
       "      <th></th>\n",
       "      <th></th>\n",
       "    </tr>\n",
       "  </thead>\n",
       "  <tbody>\n",
       "    <tr>\n",
       "      <th>gate_30</th>\n",
       "      <td>0.12572</td>\n",
       "      <td>0.43136</td>\n",
       "      <td>0.55708</td>\n",
       "    </tr>\n",
       "    <tr>\n",
       "      <th>gate_40</th>\n",
       "      <td>0.08632</td>\n",
       "      <td>0.35660</td>\n",
       "      <td>0.44292</td>\n",
       "    </tr>\n",
       "    <tr>\n",
       "      <th>All</th>\n",
       "      <td>0.21204</td>\n",
       "      <td>0.78796</td>\n",
       "      <td>1.00000</td>\n",
       "    </tr>\n",
       "  </tbody>\n",
       "</table>\n",
       "</div>"
      ],
      "text/plain": [
       "retention_1    False     True      All\n",
       "version                               \n",
       "gate_30      0.12572  0.43136  0.55708\n",
       "gate_40      0.08632  0.35660  0.44292\n",
       "All          0.21204  0.78796  1.00000"
      ]
     },
     "execution_count": 15,
     "metadata": {},
     "output_type": "execute_result"
    }
   ],
   "source": [
    "retention_1_rfc_table"
   ]
  },
  {
   "cell_type": "markdown",
   "id": "2a00b19d-2553-4624-bafb-c9e7e5c8f1af",
   "metadata": {},
   "source": [
    "## Chi Square Test 수행"
   ]
  },
  {
   "cell_type": "code",
   "execution_count": 16,
   "id": "79f6fe5b-f2e4-40e5-a137-ea1e24410a60",
   "metadata": {},
   "outputs": [],
   "source": [
    "chi2_statistics, p_value, _, _ = chi2_contingency(retention_1_c_table)"
   ]
  },
  {
   "cell_type": "code",
   "execution_count": 17,
   "id": "57a9dd82-78cc-424d-9d51-28da47144335",
   "metadata": {},
   "outputs": [
    {
     "name": "stdout",
     "output_type": "stream",
     "text": [
      "Chi Squeare Statistic : 34.99706547056732\n",
      "P-Value : 4.651800425809452e-07\n",
      "귀무가설 기각 : True\n"
     ]
    }
   ],
   "source": [
    "print(f\"Chi Squeare Statistic : {chi2_statistics}\")\n",
    "print(f\"P-Value : {p_value}\")\n",
    "print(f\"귀무가설 기각 : {p_value < 0.05}\")"
   ]
  },
  {
   "cell_type": "markdown",
   "id": "d6e7a43a-3596-4f02-86bf-750283b2024b",
   "metadata": {},
   "source": [
    "# version / retention_7 - Chi Square Test"
   ]
  },
  {
   "cell_type": "markdown",
   "id": "a6c4c3dc-81ba-4b77-af06-b799945dcda7",
   "metadata": {},
   "source": [
    "귀무가설 : version 과 retention_7은 독립이다.  \n",
    "대립가설 : version 과 retention_7은 독립이 아니다."
   ]
  },
  {
   "cell_type": "markdown",
   "id": "0dd274e2-5c0b-446c-ae17-f1f9614ae2ed",
   "metadata": {},
   "source": [
    "## 분할표 및 상대 도수 분할표 그리기"
   ]
  },
  {
   "cell_type": "code",
   "execution_count": 18,
   "id": "3e92a53b-48a6-4f9c-a173-7cf7d53a11c2",
   "metadata": {},
   "outputs": [],
   "source": [
    "retention_7_c_table = pd.crosstab(df[\"version\"], df[\"retention_7\"],\n",
    "                     margins = True)"
   ]
  },
  {
   "cell_type": "code",
   "execution_count": 19,
   "id": "280c2231-7656-419e-bbc8-83458dd50719",
   "metadata": {},
   "outputs": [
    {
     "data": {
      "text/html": [
       "<div>\n",
       "<style scoped>\n",
       "    .dataframe tbody tr th:only-of-type {\n",
       "        vertical-align: middle;\n",
       "    }\n",
       "\n",
       "    .dataframe tbody tr th {\n",
       "        vertical-align: top;\n",
       "    }\n",
       "\n",
       "    .dataframe thead th {\n",
       "        text-align: right;\n",
       "    }\n",
       "</style>\n",
       "<table border=\"1\" class=\"dataframe\">\n",
       "  <thead>\n",
       "    <tr style=\"text-align: right;\">\n",
       "      <th>retention_7</th>\n",
       "      <th>False</th>\n",
       "      <th>True</th>\n",
       "      <th>All</th>\n",
       "    </tr>\n",
       "    <tr>\n",
       "      <th>version</th>\n",
       "      <th></th>\n",
       "      <th></th>\n",
       "      <th></th>\n",
       "    </tr>\n",
       "  </thead>\n",
       "  <tbody>\n",
       "    <tr>\n",
       "      <th>gate_30</th>\n",
       "      <td>8922</td>\n",
       "      <td>5005</td>\n",
       "      <td>13927</td>\n",
       "    </tr>\n",
       "    <tr>\n",
       "      <th>gate_40</th>\n",
       "      <td>6695</td>\n",
       "      <td>4378</td>\n",
       "      <td>11073</td>\n",
       "    </tr>\n",
       "    <tr>\n",
       "      <th>All</th>\n",
       "      <td>15617</td>\n",
       "      <td>9383</td>\n",
       "      <td>25000</td>\n",
       "    </tr>\n",
       "  </tbody>\n",
       "</table>\n",
       "</div>"
      ],
      "text/plain": [
       "retention_7  False  True    All\n",
       "version                        \n",
       "gate_30       8922  5005  13927\n",
       "gate_40       6695  4378  11073\n",
       "All          15617  9383  25000"
      ]
     },
     "execution_count": 19,
     "metadata": {},
     "output_type": "execute_result"
    }
   ],
   "source": [
    "retention_7_c_table"
   ]
  },
  {
   "cell_type": "code",
   "execution_count": 20,
   "id": "66b63458-eb5d-4b8f-852b-d3fe723d9c3a",
   "metadata": {},
   "outputs": [],
   "source": [
    "retention_7_rfc_table = pd.crosstab(df[\"version\"], df[\"retention_7\"],\n",
    "                                   margins = True, normalize = True)"
   ]
  },
  {
   "cell_type": "code",
   "execution_count": 21,
   "id": "32a6cf80-3deb-4183-9d45-e140e457032a",
   "metadata": {},
   "outputs": [
    {
     "data": {
      "text/html": [
       "<div>\n",
       "<style scoped>\n",
       "    .dataframe tbody tr th:only-of-type {\n",
       "        vertical-align: middle;\n",
       "    }\n",
       "\n",
       "    .dataframe tbody tr th {\n",
       "        vertical-align: top;\n",
       "    }\n",
       "\n",
       "    .dataframe thead th {\n",
       "        text-align: right;\n",
       "    }\n",
       "</style>\n",
       "<table border=\"1\" class=\"dataframe\">\n",
       "  <thead>\n",
       "    <tr style=\"text-align: right;\">\n",
       "      <th>retention_7</th>\n",
       "      <th>False</th>\n",
       "      <th>True</th>\n",
       "      <th>All</th>\n",
       "    </tr>\n",
       "    <tr>\n",
       "      <th>version</th>\n",
       "      <th></th>\n",
       "      <th></th>\n",
       "      <th></th>\n",
       "    </tr>\n",
       "  </thead>\n",
       "  <tbody>\n",
       "    <tr>\n",
       "      <th>gate_30</th>\n",
       "      <td>0.35688</td>\n",
       "      <td>0.20020</td>\n",
       "      <td>0.55708</td>\n",
       "    </tr>\n",
       "    <tr>\n",
       "      <th>gate_40</th>\n",
       "      <td>0.26780</td>\n",
       "      <td>0.17512</td>\n",
       "      <td>0.44292</td>\n",
       "    </tr>\n",
       "    <tr>\n",
       "      <th>All</th>\n",
       "      <td>0.62468</td>\n",
       "      <td>0.37532</td>\n",
       "      <td>1.00000</td>\n",
       "    </tr>\n",
       "  </tbody>\n",
       "</table>\n",
       "</div>"
      ],
      "text/plain": [
       "retention_7    False     True      All\n",
       "version                               \n",
       "gate_30      0.35688  0.20020  0.55708\n",
       "gate_40      0.26780  0.17512  0.44292\n",
       "All          0.62468  0.37532  1.00000"
      ]
     },
     "execution_count": 21,
     "metadata": {},
     "output_type": "execute_result"
    }
   ],
   "source": [
    "retention_7_rfc_table"
   ]
  },
  {
   "cell_type": "markdown",
   "id": "32c3beb5-ada6-4fb3-8870-ec98731d75b8",
   "metadata": {},
   "source": [
    "## Chi Square Test 수행"
   ]
  },
  {
   "cell_type": "code",
   "execution_count": 22,
   "id": "206cea15-9d38-4f48-b4ce-4e73a1c3789e",
   "metadata": {},
   "outputs": [],
   "source": [
    "chi2_statistics, p_value, _, _, = chi2_contingency(retention_7_c_table)"
   ]
  },
  {
   "cell_type": "code",
   "execution_count": 23,
   "id": "a2b097fc-efbb-4f1a-ad32-3af6f3a43d58",
   "metadata": {},
   "outputs": [
    {
     "name": "stdout",
     "output_type": "stream",
     "text": [
      "Chi Squeare Statistic : 34.102257998318635\n",
      "P-Value : 7.100568725708325e-07\n",
      "귀무가설 기각 : True\n"
     ]
    }
   ],
   "source": [
    "print(f\"Chi Squeare Statistic : {chi2_statistics}\")\n",
    "print(f\"P-Value : {p_value}\")\n",
    "print(f\"귀무가설 기각 : {p_value < 0.05}\")"
   ]
  },
  {
   "cell_type": "markdown",
   "id": "1277ffb1-6a63-4ac2-9553-f9e549059ef5",
   "metadata": {},
   "source": [
    "# retention_1 / retention_7 - Chi Square Test"
   ]
  },
  {
   "cell_type": "markdown",
   "id": "2c31564f-3f1c-4784-a101-424bc1906e56",
   "metadata": {},
   "source": [
    "귀무가설 : retention_1 과 retention_7은 독립이다.  \n",
    "대립가설 : retention_1 과 retention_7은 독립이 아니다."
   ]
  },
  {
   "cell_type": "markdown",
   "id": "c8c68d12-eaf8-4055-a390-d7f6e47945ca",
   "metadata": {},
   "source": [
    "## 분할표 및 상대 도수 분할표 그리기"
   ]
  },
  {
   "cell_type": "code",
   "execution_count": 24,
   "id": "4d2e4f5a-2d42-40bd-b042-653d997dc872",
   "metadata": {},
   "outputs": [],
   "source": [
    "retention_c_table = pd.crosstab(df[\"retention_1\"], df[\"retention_7\"],\n",
    "                     margins = True)"
   ]
  },
  {
   "cell_type": "code",
   "execution_count": 25,
   "id": "dd333bb9-2052-47de-b2d3-76d33fddc531",
   "metadata": {},
   "outputs": [
    {
     "data": {
      "text/html": [
       "<div>\n",
       "<style scoped>\n",
       "    .dataframe tbody tr th:only-of-type {\n",
       "        vertical-align: middle;\n",
       "    }\n",
       "\n",
       "    .dataframe tbody tr th {\n",
       "        vertical-align: top;\n",
       "    }\n",
       "\n",
       "    .dataframe thead th {\n",
       "        text-align: right;\n",
       "    }\n",
       "</style>\n",
       "<table border=\"1\" class=\"dataframe\">\n",
       "  <thead>\n",
       "    <tr style=\"text-align: right;\">\n",
       "      <th>retention_7</th>\n",
       "      <th>False</th>\n",
       "      <th>True</th>\n",
       "      <th>All</th>\n",
       "    </tr>\n",
       "    <tr>\n",
       "      <th>retention_1</th>\n",
       "      <th></th>\n",
       "      <th></th>\n",
       "      <th></th>\n",
       "    </tr>\n",
       "  </thead>\n",
       "  <tbody>\n",
       "    <tr>\n",
       "      <th>False</th>\n",
       "      <td>3459</td>\n",
       "      <td>1842</td>\n",
       "      <td>5301</td>\n",
       "    </tr>\n",
       "    <tr>\n",
       "      <th>True</th>\n",
       "      <td>12158</td>\n",
       "      <td>7541</td>\n",
       "      <td>19699</td>\n",
       "    </tr>\n",
       "    <tr>\n",
       "      <th>All</th>\n",
       "      <td>15617</td>\n",
       "      <td>9383</td>\n",
       "      <td>25000</td>\n",
       "    </tr>\n",
       "  </tbody>\n",
       "</table>\n",
       "</div>"
      ],
      "text/plain": [
       "retention_7  False  True    All\n",
       "retention_1                    \n",
       "False         3459  1842   5301\n",
       "True         12158  7541  19699\n",
       "All          15617  9383  25000"
      ]
     },
     "execution_count": 25,
     "metadata": {},
     "output_type": "execute_result"
    }
   ],
   "source": [
    "retention_c_table"
   ]
  },
  {
   "cell_type": "code",
   "execution_count": 26,
   "id": "6cfdb95e-6726-4f6d-825c-3544ccf98be8",
   "metadata": {},
   "outputs": [],
   "source": [
    "retention_rfc_table = pd.crosstab(df[\"retention_1\"], df[\"retention_7\"],\n",
    "                                   margins = True, normalize = True)"
   ]
  },
  {
   "cell_type": "code",
   "execution_count": 27,
   "id": "e25790d2-e718-475f-9e78-f066ddc25faf",
   "metadata": {},
   "outputs": [
    {
     "data": {
      "text/html": [
       "<div>\n",
       "<style scoped>\n",
       "    .dataframe tbody tr th:only-of-type {\n",
       "        vertical-align: middle;\n",
       "    }\n",
       "\n",
       "    .dataframe tbody tr th {\n",
       "        vertical-align: top;\n",
       "    }\n",
       "\n",
       "    .dataframe thead th {\n",
       "        text-align: right;\n",
       "    }\n",
       "</style>\n",
       "<table border=\"1\" class=\"dataframe\">\n",
       "  <thead>\n",
       "    <tr style=\"text-align: right;\">\n",
       "      <th>retention_7</th>\n",
       "      <th>False</th>\n",
       "      <th>True</th>\n",
       "      <th>All</th>\n",
       "    </tr>\n",
       "    <tr>\n",
       "      <th>retention_1</th>\n",
       "      <th></th>\n",
       "      <th></th>\n",
       "      <th></th>\n",
       "    </tr>\n",
       "  </thead>\n",
       "  <tbody>\n",
       "    <tr>\n",
       "      <th>False</th>\n",
       "      <td>0.13836</td>\n",
       "      <td>0.07368</td>\n",
       "      <td>0.21204</td>\n",
       "    </tr>\n",
       "    <tr>\n",
       "      <th>True</th>\n",
       "      <td>0.48632</td>\n",
       "      <td>0.30164</td>\n",
       "      <td>0.78796</td>\n",
       "    </tr>\n",
       "    <tr>\n",
       "      <th>All</th>\n",
       "      <td>0.62468</td>\n",
       "      <td>0.37532</td>\n",
       "      <td>1.00000</td>\n",
       "    </tr>\n",
       "  </tbody>\n",
       "</table>\n",
       "</div>"
      ],
      "text/plain": [
       "retention_7    False     True      All\n",
       "retention_1                           \n",
       "False        0.13836  0.07368  0.21204\n",
       "True         0.48632  0.30164  0.78796\n",
       "All          0.62468  0.37532  1.00000"
      ]
     },
     "execution_count": 27,
     "metadata": {},
     "output_type": "execute_result"
    }
   ],
   "source": [
    "retention_rfc_table"
   ]
  },
  {
   "cell_type": "markdown",
   "id": "a6564be9-0d38-4642-a340-2e104ae3f5d8",
   "metadata": {},
   "source": [
    "## Chi Square Test 수행"
   ]
  },
  {
   "cell_type": "code",
   "execution_count": 29,
   "id": "4ab1939e-ae5c-4380-a965-839360fee2ee",
   "metadata": {},
   "outputs": [],
   "source": [
    "chi2_statistics, p_value, _, _, = chi2_contingency(retention_c_table)"
   ]
  },
  {
   "cell_type": "code",
   "execution_count": 30,
   "id": "ff6f0926-96b8-40e4-a1a1-acc5533a8b87",
   "metadata": {},
   "outputs": [
    {
     "name": "stdout",
     "output_type": "stream",
     "text": [
      "Chi Squeare Statistic : 22.23732989406514\n",
      "P-Value : 0.00017975457218262524\n",
      "귀무가설 기각 : True\n"
     ]
    }
   ],
   "source": [
    "print(f\"Chi Squeare Statistic : {chi2_statistics}\")\n",
    "print(f\"P-Value : {p_value}\")\n",
    "print(f\"귀무가설 기각 : {p_value < 0.05}\")"
   ]
  },
  {
   "cell_type": "markdown",
   "id": "03219c18-ee55-4e71-9c3b-37cb8cf507f8",
   "metadata": {},
   "source": [
    "# Result"
   ]
  },
  {
   "cell_type": "markdown",
   "id": "819a6d6e-6041-4920-9946-2214be00b307",
   "metadata": {},
   "source": [
    "### gate_30 접속율"
   ]
  },
  {
   "cell_type": "code",
   "execution_count": 52,
   "id": "93f56cde-f1b5-4011-9911-0fe6c35b9f07",
   "metadata": {},
   "outputs": [],
   "source": [
    "gate_30_retention_1_t = df[(df[\"version\"] == \"gate_30\") & (df[\"retention_1\"] == True)][\"retention_1\"].count()\n",
    "gate_30_retention_1_f = df[(df[\"version\"] == \"gate_30\") & (df[\"retention_1\"] == False)][\"retention_1\"].count()"
   ]
  },
  {
   "cell_type": "code",
   "execution_count": 56,
   "id": "367f5e9e-4268-4e61-b18a-dc1d1e31411e",
   "metadata": {},
   "outputs": [],
   "source": [
    "gate_30_retention_7_t = df[(df[\"version\"] == \"gate_30\") & (df[\"retention_7\"] == True)][\"retention_7\"].count()\n",
    "gate_30_retention_7_f = df[(df[\"version\"] == \"gate_30\") & (df[\"retention_7\"] == False)][\"retention_7\"].count()"
   ]
  },
  {
   "cell_type": "code",
   "execution_count": 78,
   "id": "14aa8082-175b-4a5a-83ae-7e4cabdd4a61",
   "metadata": {},
   "outputs": [
    {
     "name": "stdout",
     "output_type": "stream",
     "text": [
      "1일 뒤 접속율 : 77.43%\n",
      "1일 뒤 미접속율 : 22.57%\n",
      "----------------------\n",
      "7일 뒤 접속율 : 35.94%\n",
      "7일 뒤 미접속율 : 64.06%\n"
     ]
    }
   ],
   "source": [
    "print(f\"1일 뒤 접속율 : {round((gate_30_retention_1_t / (gate_30_retention_1_t + gate_30_retention_1_f)) * 100, 2)}%\")\n",
    "print(f\"1일 뒤 미접속율 : {round((gate_30_retention_1_f / (gate_30_retention_1_t + gate_30_retention_1_f)) * 100, 2)}%\")\n",
    "print(\"----------------------\")\n",
    "print(f\"7일 뒤 접속율 : {round((gate_30_retention_7_t / (gate_30_retention_7_t + gate_30_retention_7_f)) * 100, 2)}%\")\n",
    "print(f\"7일 뒤 미접속율 : {round((gate_30_retention_7_f / (gate_30_retention_7_t + gate_30_retention_7_f)) * 100, 2)}%\")"
   ]
  },
  {
   "cell_type": "markdown",
   "id": "bab35925-ecc6-41e8-b879-c2aa2e0c6a36",
   "metadata": {},
   "source": [
    "### gate_40 접속율"
   ]
  },
  {
   "cell_type": "code",
   "execution_count": 58,
   "id": "9af93fb2-0c02-410a-8acc-59219df7432f",
   "metadata": {},
   "outputs": [],
   "source": [
    "gate_40_retention_1_t = df[(df[\"version\"] == \"gate_40\") & (df[\"retention_1\"] == True)][\"retention_1\"].count()\n",
    "gate_40_retention_1_f = df[(df[\"version\"] == \"gate_40\") & (df[\"retention_1\"] == False)][\"retention_1\"].count()"
   ]
  },
  {
   "cell_type": "code",
   "execution_count": 60,
   "id": "89ce00b6-28db-40bb-b29d-38f387cfb449",
   "metadata": {},
   "outputs": [],
   "source": [
    "gate_40_retention_7_t = df[(df[\"version\"] == \"gate_40\") & (df[\"retention_7\"] == True)][\"retention_1\"].count()\n",
    "gate_40_retention_7_f = df[(df[\"version\"] == \"gate_40\") & (df[\"retention_7\"] == False)][\"retention_1\"].count()"
   ]
  },
  {
   "cell_type": "code",
   "execution_count": 79,
   "id": "7efd6163-1a78-487f-a242-da4a9c5a7670",
   "metadata": {},
   "outputs": [
    {
     "name": "stdout",
     "output_type": "stream",
     "text": [
      "1일 뒤 접속율 : 80.51%\n",
      "1일 뒤 미접속율 : 19.49%\n",
      "----------------------\n",
      "7일 뒤 접속율 : 39.54%\n",
      "7일 뒤 미접속율 : 60.46%\n"
     ]
    }
   ],
   "source": [
    "print(f\"1일 뒤 접속율 : {round((gate_40_retention_1_t / (gate_40_retention_1_t + gate_40_retention_1_f)) * 100, 2)}%\")\n",
    "print(f\"1일 뒤 미접속율 : {round((gate_40_retention_1_f / (gate_40_retention_1_t + gate_40_retention_1_f)) * 100, 2)}%\")\n",
    "print(\"----------------------\")\n",
    "print(f\"7일 뒤 접속율 : {round((gate_40_retention_7_t / (gate_40_retention_7_t + gate_40_retention_7_f)) * 100, 2)}%\")\n",
    "print(f\"7일 뒤 미접속율 : {round((gate_40_retention_7_f / (gate_40_retention_7_t + gate_40_retention_7_f)) * 100, 2)}%\")"
   ]
  },
  {
   "cell_type": "markdown",
   "id": "5cff74a4-e752-46ed-be3f-19a9d8a5f73c",
   "metadata": {},
   "source": [
    "- version 과 retention 은 독립이 아닌 종속관계임을 카이제곱검정으로 확인.\n",
    "- gate_40을 설정한 그룹이 gate_30을 설정한 그룹보다 전체적인 미접속율이 낮음.\n",
    "- 코치님의 조언으로 게임을 실제로 진행해보니 게임 진행 속도가 생각보다 굉장히 빠름을 알 수 있었음.\n",
    "- 30라운드는 생각 이상으로 빠르게 도달할 수 있으며 그로 인한 짧은 플레이타임으로 게임의 재미를 다 느끼기 전에 막힐 가능성이 상당함.\n",
    "- gate를 40으로 미뤄 미접속율을 낮추는 것이 도움이 될 것이다."
   ]
  }
 ],
 "metadata": {
  "kernelspec": {
   "display_name": "Python 3 (ipykernel)",
   "language": "python",
   "name": "python3"
  },
  "language_info": {
   "codemirror_mode": {
    "name": "ipython",
    "version": 3
   },
   "file_extension": ".py",
   "mimetype": "text/x-python",
   "name": "python",
   "nbconvert_exporter": "python",
   "pygments_lexer": "ipython3",
   "version": "3.12.4"
  }
 },
 "nbformat": 4,
 "nbformat_minor": 5
}
