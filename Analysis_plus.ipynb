{
 "cells": [
  {
   "cell_type": "markdown",
   "id": "781047f4-156e-414a-b2e8-c5da4e076c51",
   "metadata": {},
   "source": [
    "# 라이브러리 및 데이터 불러오기"
   ]
  },
  {
   "cell_type": "code",
   "execution_count": 58,
   "id": "d82c34e0-aec2-420a-bc51-078e5af15bff",
   "metadata": {},
   "outputs": [],
   "source": [
    "import pandas as pd\n",
    "import seaborn as sns\n",
    "from matplotlib import pyplot as plt\n",
    "from scipy import stats\n",
    "from scipy.stats import chi2_contingency"
   ]
  },
  {
   "cell_type": "code",
   "execution_count": 2,
   "id": "d49ff3de-c29b-4b66-92ef-14378c7ed733",
   "metadata": {},
   "outputs": [],
   "source": [
    "df = pd.read_csv(\"./data/preprocessed_second_cookie_cat.csv\")"
   ]
  },
  {
   "cell_type": "code",
   "execution_count": 3,
   "id": "c6af2dc9-6179-4746-8f8a-f8845986f700",
   "metadata": {},
   "outputs": [
    {
     "name": "stdout",
     "output_type": "stream",
     "text": [
      "<class 'pandas.core.frame.DataFrame'>\n",
      "RangeIndex: 30482 entries, 0 to 30481\n",
      "Data columns (total 6 columns):\n",
      " #   Column          Non-Null Count  Dtype \n",
      "---  ------          --------------  ----- \n",
      " 0   Unnamed: 0      30482 non-null  int64 \n",
      " 1   userid          30482 non-null  int64 \n",
      " 2   version         30482 non-null  object\n",
      " 3   sum_gamerounds  30482 non-null  int64 \n",
      " 4   retention_1     30482 non-null  bool  \n",
      " 5   retention_7     30482 non-null  bool  \n",
      "dtypes: bool(2), int64(3), object(1)\n",
      "memory usage: 1012.2+ KB\n"
     ]
    }
   ],
   "source": [
    "df.info()"
   ]
  },
  {
   "cell_type": "code",
   "execution_count": 4,
   "id": "3830fda6-510a-4cb7-a650-774a941212c3",
   "metadata": {},
   "outputs": [
    {
     "data": {
      "text/html": [
       "<div>\n",
       "<style scoped>\n",
       "    .dataframe tbody tr th:only-of-type {\n",
       "        vertical-align: middle;\n",
       "    }\n",
       "\n",
       "    .dataframe tbody tr th {\n",
       "        vertical-align: top;\n",
       "    }\n",
       "\n",
       "    .dataframe thead th {\n",
       "        text-align: right;\n",
       "    }\n",
       "</style>\n",
       "<table border=\"1\" class=\"dataframe\">\n",
       "  <thead>\n",
       "    <tr style=\"text-align: right;\">\n",
       "      <th></th>\n",
       "      <th>Unnamed: 0</th>\n",
       "      <th>userid</th>\n",
       "      <th>version</th>\n",
       "      <th>sum_gamerounds</th>\n",
       "      <th>retention_1</th>\n",
       "      <th>retention_7</th>\n",
       "    </tr>\n",
       "  </thead>\n",
       "  <tbody>\n",
       "    <tr>\n",
       "      <th>0</th>\n",
       "      <td>1</td>\n",
       "      <td>337</td>\n",
       "      <td>gate_30</td>\n",
       "      <td>38</td>\n",
       "      <td>True</td>\n",
       "      <td>False</td>\n",
       "    </tr>\n",
       "    <tr>\n",
       "      <th>1</th>\n",
       "      <td>2</td>\n",
       "      <td>377</td>\n",
       "      <td>gate_40</td>\n",
       "      <td>165</td>\n",
       "      <td>True</td>\n",
       "      <td>False</td>\n",
       "    </tr>\n",
       "    <tr>\n",
       "      <th>2</th>\n",
       "      <td>4</td>\n",
       "      <td>488</td>\n",
       "      <td>gate_40</td>\n",
       "      <td>179</td>\n",
       "      <td>True</td>\n",
       "      <td>True</td>\n",
       "    </tr>\n",
       "    <tr>\n",
       "      <th>3</th>\n",
       "      <td>5</td>\n",
       "      <td>540</td>\n",
       "      <td>gate_40</td>\n",
       "      <td>187</td>\n",
       "      <td>True</td>\n",
       "      <td>True</td>\n",
       "    </tr>\n",
       "    <tr>\n",
       "      <th>4</th>\n",
       "      <td>8</td>\n",
       "      <td>1574</td>\n",
       "      <td>gate_40</td>\n",
       "      <td>108</td>\n",
       "      <td>True</td>\n",
       "      <td>True</td>\n",
       "    </tr>\n",
       "    <tr>\n",
       "      <th>...</th>\n",
       "      <td>...</td>\n",
       "      <td>...</td>\n",
       "      <td>...</td>\n",
       "      <td>...</td>\n",
       "      <td>...</td>\n",
       "      <td>...</td>\n",
       "    </tr>\n",
       "    <tr>\n",
       "      <th>30477</th>\n",
       "      <td>90171</td>\n",
       "      <td>9997757</td>\n",
       "      <td>gate_30</td>\n",
       "      <td>84</td>\n",
       "      <td>True</td>\n",
       "      <td>False</td>\n",
       "    </tr>\n",
       "    <tr>\n",
       "      <th>30478</th>\n",
       "      <td>90175</td>\n",
       "      <td>9998125</td>\n",
       "      <td>gate_30</td>\n",
       "      <td>30</td>\n",
       "      <td>False</td>\n",
       "      <td>False</td>\n",
       "    </tr>\n",
       "    <tr>\n",
       "      <th>30479</th>\n",
       "      <td>90177</td>\n",
       "      <td>9998376</td>\n",
       "      <td>gate_40</td>\n",
       "      <td>53</td>\n",
       "      <td>False</td>\n",
       "      <td>False</td>\n",
       "    </tr>\n",
       "    <tr>\n",
       "      <th>30480</th>\n",
       "      <td>90184</td>\n",
       "      <td>9999441</td>\n",
       "      <td>gate_40</td>\n",
       "      <td>97</td>\n",
       "      <td>True</td>\n",
       "      <td>False</td>\n",
       "    </tr>\n",
       "    <tr>\n",
       "      <th>30481</th>\n",
       "      <td>90187</td>\n",
       "      <td>9999768</td>\n",
       "      <td>gate_40</td>\n",
       "      <td>51</td>\n",
       "      <td>True</td>\n",
       "      <td>False</td>\n",
       "    </tr>\n",
       "  </tbody>\n",
       "</table>\n",
       "<p>30482 rows × 6 columns</p>\n",
       "</div>"
      ],
      "text/plain": [
       "       Unnamed: 0   userid  version  sum_gamerounds  retention_1  retention_7\n",
       "0               1      337  gate_30              38         True        False\n",
       "1               2      377  gate_40             165         True        False\n",
       "2               4      488  gate_40             179         True         True\n",
       "3               5      540  gate_40             187         True         True\n",
       "4               8     1574  gate_40             108         True         True\n",
       "...           ...      ...      ...             ...          ...          ...\n",
       "30477       90171  9997757  gate_30              84         True        False\n",
       "30478       90175  9998125  gate_30              30        False        False\n",
       "30479       90177  9998376  gate_40              53        False        False\n",
       "30480       90184  9999441  gate_40              97         True        False\n",
       "30481       90187  9999768  gate_40              51         True        False\n",
       "\n",
       "[30482 rows x 6 columns]"
      ]
     },
     "execution_count": 4,
     "metadata": {},
     "output_type": "execute_result"
    }
   ],
   "source": [
    "df"
   ]
  },
  {
   "cell_type": "markdown",
   "id": "0d0cb195-474b-40a0-8445-8a1ce3ef1cc9",
   "metadata": {},
   "source": [
    "# gate_30 / gate_40 - Paired Sample T-Test"
   ]
  },
  {
   "cell_type": "markdown",
   "id": "243b0bba-d3d0-4807-b10b-9b51e23138a5",
   "metadata": {},
   "source": [
    "$$H_{0}: \\mu_{30}-\\mu_{40}=0$$\n",
    "$$H_{a}: \\mu_{30}-\\mu_{40}\\neq0$$"
   ]
  },
  {
   "cell_type": "markdown",
   "id": "a85df2e3-dea9-4d9e-ab56-2c00eba9f6a9",
   "metadata": {},
   "source": [
    "## 등분산 검정"
   ]
  },
  {
   "cell_type": "code",
   "execution_count": 5,
   "id": "e78dbd92-735c-4223-89d5-970cd98fd7d1",
   "metadata": {},
   "outputs": [],
   "source": [
    "gate_30_rounds = df[df[\"version\"] == \"gate_30\"][\"sum_gamerounds\"]\n",
    "gate_40_rounds = df[df[\"version\"] == \"gate_40\"][\"sum_gamerounds\"]"
   ]
  },
  {
   "cell_type": "code",
   "execution_count": 6,
   "id": "b677eae2-d04b-4cc9-9bb3-17d64b859fe6",
   "metadata": {},
   "outputs": [],
   "source": [
    "_,p_value_levene = stats.levene(gate_30_rounds, gate_40_rounds)"
   ]
  },
  {
   "cell_type": "code",
   "execution_count": 7,
   "id": "ae0ca3c9-7628-4206-afd1-2496c80fab56",
   "metadata": {},
   "outputs": [
    {
     "name": "stdout",
     "output_type": "stream",
     "text": [
      "8.294327867813097e-05 이분산 가정 만족\n"
     ]
    }
   ],
   "source": [
    "if p_value_levene > 0.05:\n",
    "    print(p_value_levene, \"등분산 가정 만족\")\n",
    "else:\n",
    "    print(p_value_levene, \"이분산 가정 만족\")"
   ]
  },
  {
   "cell_type": "markdown",
   "id": "6e9f6cc2-5f1d-4444-aaea-0d1e695fadb3",
   "metadata": {},
   "source": [
    "## T-Test 수행"
   ]
  },
  {
   "cell_type": "code",
   "execution_count": 8,
   "id": "5e00c719-ec3b-4b1d-8285-e2e301121ca3",
   "metadata": {},
   "outputs": [],
   "source": [
    "t, p_value = stats.ttest_ind(\n",
    "    a = gate_30_rounds,\n",
    "    b = gate_40_rounds,\n",
    "    alternative = \"two-sided\",\n",
    "    equal_var = False\n",
    ")"
   ]
  },
  {
   "cell_type": "code",
   "execution_count": 9,
   "id": "8ff359ed-bc34-4ac3-9cd6-e313c9e1a854",
   "metadata": {},
   "outputs": [
    {
     "name": "stdout",
     "output_type": "stream",
     "text": [
      "p-value : 3.9867252049915826e-34\n",
      "귀무가설 기각 : True\n"
     ]
    }
   ],
   "source": [
    "print(f\"p-value : {p_value}\")\n",
    "print(f\"귀무가설 기각 : {p_value < 0.05}\")"
   ]
  },
  {
   "cell_type": "markdown",
   "id": "614aeb79-808d-43f5-9ccb-2872348b2635",
   "metadata": {
    "jp-MarkdownHeadingCollapsed": true
   },
   "source": [
    "# version / retention_1 - Chi Square Test"
   ]
  },
  {
   "cell_type": "markdown",
   "id": "f600f103-6d55-4bd4-8d65-6496e3d19f6f",
   "metadata": {},
   "source": [
    "귀무가설 : version 과 retention_1은 독립이다.  \n",
    "대립가설 : version 과 retention_1은 독립이 아니다."
   ]
  },
  {
   "cell_type": "markdown",
   "id": "c368c3f2-0d27-424f-9934-5b7a86bb2b16",
   "metadata": {},
   "source": [
    "## 분할표 및 상대 도수 분할표 그리기"
   ]
  },
  {
   "cell_type": "code",
   "execution_count": 10,
   "id": "dd1f8646-60f3-4514-b938-d637a44324d7",
   "metadata": {},
   "outputs": [],
   "source": [
    "retention_1_c_table = pd.crosstab(df[\"version\"], df[\"retention_1\"],\n",
    "                     margins = True)"
   ]
  },
  {
   "cell_type": "code",
   "execution_count": 11,
   "id": "fd734c5a-a7ab-4304-8f98-b3895eb94dac",
   "metadata": {},
   "outputs": [
    {
     "data": {
      "text/html": [
       "<div>\n",
       "<style scoped>\n",
       "    .dataframe tbody tr th:only-of-type {\n",
       "        vertical-align: middle;\n",
       "    }\n",
       "\n",
       "    .dataframe tbody tr th {\n",
       "        vertical-align: top;\n",
       "    }\n",
       "\n",
       "    .dataframe thead th {\n",
       "        text-align: right;\n",
       "    }\n",
       "</style>\n",
       "<table border=\"1\" class=\"dataframe\">\n",
       "  <thead>\n",
       "    <tr style=\"text-align: right;\">\n",
       "      <th>retention_1</th>\n",
       "      <th>False</th>\n",
       "      <th>True</th>\n",
       "      <th>All</th>\n",
       "    </tr>\n",
       "    <tr>\n",
       "      <th>version</th>\n",
       "      <th></th>\n",
       "      <th></th>\n",
       "      <th></th>\n",
       "    </tr>\n",
       "  </thead>\n",
       "  <tbody>\n",
       "    <tr>\n",
       "      <th>gate_30</th>\n",
       "      <td>3314</td>\n",
       "      <td>13341</td>\n",
       "      <td>16655</td>\n",
       "    </tr>\n",
       "    <tr>\n",
       "      <th>gate_40</th>\n",
       "      <td>2348</td>\n",
       "      <td>11479</td>\n",
       "      <td>13827</td>\n",
       "    </tr>\n",
       "    <tr>\n",
       "      <th>All</th>\n",
       "      <td>5662</td>\n",
       "      <td>24820</td>\n",
       "      <td>30482</td>\n",
       "    </tr>\n",
       "  </tbody>\n",
       "</table>\n",
       "</div>"
      ],
      "text/plain": [
       "retention_1  False   True    All\n",
       "version                         \n",
       "gate_30       3314  13341  16655\n",
       "gate_40       2348  11479  13827\n",
       "All           5662  24820  30482"
      ]
     },
     "execution_count": 11,
     "metadata": {},
     "output_type": "execute_result"
    }
   ],
   "source": [
    "retention_1_c_table"
   ]
  },
  {
   "cell_type": "code",
   "execution_count": 12,
   "id": "6fe2a8f3-6a32-423f-b790-68f1bf2ed3ca",
   "metadata": {},
   "outputs": [],
   "source": [
    "retention_1_rfc_table = pd.crosstab(df[\"version\"], df[\"retention_1\"],\n",
    "                        margins = True, normalize = True)"
   ]
  },
  {
   "cell_type": "code",
   "execution_count": 13,
   "id": "6e765077-b65e-4d67-a59a-e52f001127ff",
   "metadata": {},
   "outputs": [
    {
     "data": {
      "text/html": [
       "<div>\n",
       "<style scoped>\n",
       "    .dataframe tbody tr th:only-of-type {\n",
       "        vertical-align: middle;\n",
       "    }\n",
       "\n",
       "    .dataframe tbody tr th {\n",
       "        vertical-align: top;\n",
       "    }\n",
       "\n",
       "    .dataframe thead th {\n",
       "        text-align: right;\n",
       "    }\n",
       "</style>\n",
       "<table border=\"1\" class=\"dataframe\">\n",
       "  <thead>\n",
       "    <tr style=\"text-align: right;\">\n",
       "      <th>retention_1</th>\n",
       "      <th>False</th>\n",
       "      <th>True</th>\n",
       "      <th>All</th>\n",
       "    </tr>\n",
       "    <tr>\n",
       "      <th>version</th>\n",
       "      <th></th>\n",
       "      <th></th>\n",
       "      <th></th>\n",
       "    </tr>\n",
       "  </thead>\n",
       "  <tbody>\n",
       "    <tr>\n",
       "      <th>gate_30</th>\n",
       "      <td>0.108720</td>\n",
       "      <td>0.437668</td>\n",
       "      <td>0.546388</td>\n",
       "    </tr>\n",
       "    <tr>\n",
       "      <th>gate_40</th>\n",
       "      <td>0.077029</td>\n",
       "      <td>0.376583</td>\n",
       "      <td>0.453612</td>\n",
       "    </tr>\n",
       "    <tr>\n",
       "      <th>All</th>\n",
       "      <td>0.185749</td>\n",
       "      <td>0.814251</td>\n",
       "      <td>1.000000</td>\n",
       "    </tr>\n",
       "  </tbody>\n",
       "</table>\n",
       "</div>"
      ],
      "text/plain": [
       "retention_1     False      True       All\n",
       "version                                  \n",
       "gate_30      0.108720  0.437668  0.546388\n",
       "gate_40      0.077029  0.376583  0.453612\n",
       "All          0.185749  0.814251  1.000000"
      ]
     },
     "execution_count": 13,
     "metadata": {},
     "output_type": "execute_result"
    }
   ],
   "source": [
    "retention_1_rfc_table"
   ]
  },
  {
   "cell_type": "markdown",
   "id": "2a00b19d-2553-4624-bafb-c9e7e5c8f1af",
   "metadata": {},
   "source": [
    "## Chi Square Test 수행"
   ]
  },
  {
   "cell_type": "code",
   "execution_count": 14,
   "id": "79f6fe5b-f2e4-40e5-a137-ea1e24410a60",
   "metadata": {},
   "outputs": [],
   "source": [
    "chi2_statistics, p_value, _, _ = chi2_contingency(retention_1_c_table)"
   ]
  },
  {
   "cell_type": "code",
   "execution_count": 15,
   "id": "57a9dd82-78cc-424d-9d51-28da47144335",
   "metadata": {},
   "outputs": [
    {
     "name": "stdout",
     "output_type": "stream",
     "text": [
      "Chi Squeare Statistic : 42.492866889872545\n",
      "P-Value : 1.3184133422717052e-08\n",
      "귀무가설 기각 : True\n"
     ]
    }
   ],
   "source": [
    "print(f\"Chi Squeare Statistic : {chi2_statistics}\")\n",
    "print(f\"P-Value : {p_value}\")\n",
    "print(f\"귀무가설 기각 : {p_value < 0.05}\")"
   ]
  },
  {
   "cell_type": "markdown",
   "id": "d6e7a43a-3596-4f02-86bf-750283b2024b",
   "metadata": {
    "jp-MarkdownHeadingCollapsed": true
   },
   "source": [
    "# version / retention_7 - Chi Square Test"
   ]
  },
  {
   "cell_type": "markdown",
   "id": "a6c4c3dc-81ba-4b77-af06-b799945dcda7",
   "metadata": {},
   "source": [
    "귀무가설 : version 과 retention_7은 독립이다.  \n",
    "대립가설 : version 과 retention_7은 독립이 아니다."
   ]
  },
  {
   "cell_type": "markdown",
   "id": "0dd274e2-5c0b-446c-ae17-f1f9614ae2ed",
   "metadata": {},
   "source": [
    "## 분할표 및 상대 도수 분할표 그리기"
   ]
  },
  {
   "cell_type": "code",
   "execution_count": 16,
   "id": "3e92a53b-48a6-4f9c-a173-7cf7d53a11c2",
   "metadata": {},
   "outputs": [],
   "source": [
    "retention_7_c_table = pd.crosstab(df[\"version\"], df[\"retention_7\"],\n",
    "                     margins = True)"
   ]
  },
  {
   "cell_type": "code",
   "execution_count": 17,
   "id": "280c2231-7656-419e-bbc8-83458dd50719",
   "metadata": {},
   "outputs": [
    {
     "data": {
      "text/html": [
       "<div>\n",
       "<style scoped>\n",
       "    .dataframe tbody tr th:only-of-type {\n",
       "        vertical-align: middle;\n",
       "    }\n",
       "\n",
       "    .dataframe tbody tr th {\n",
       "        vertical-align: top;\n",
       "    }\n",
       "\n",
       "    .dataframe thead th {\n",
       "        text-align: right;\n",
       "    }\n",
       "</style>\n",
       "<table border=\"1\" class=\"dataframe\">\n",
       "  <thead>\n",
       "    <tr style=\"text-align: right;\">\n",
       "      <th>retention_7</th>\n",
       "      <th>False</th>\n",
       "      <th>True</th>\n",
       "      <th>All</th>\n",
       "    </tr>\n",
       "    <tr>\n",
       "      <th>version</th>\n",
       "      <th></th>\n",
       "      <th></th>\n",
       "      <th></th>\n",
       "    </tr>\n",
       "  </thead>\n",
       "  <tbody>\n",
       "    <tr>\n",
       "      <th>gate_30</th>\n",
       "      <td>9348</td>\n",
       "      <td>7307</td>\n",
       "      <td>16655</td>\n",
       "    </tr>\n",
       "    <tr>\n",
       "      <th>gate_40</th>\n",
       "      <td>7120</td>\n",
       "      <td>6707</td>\n",
       "      <td>13827</td>\n",
       "    </tr>\n",
       "    <tr>\n",
       "      <th>All</th>\n",
       "      <td>16468</td>\n",
       "      <td>14014</td>\n",
       "      <td>30482</td>\n",
       "    </tr>\n",
       "  </tbody>\n",
       "</table>\n",
       "</div>"
      ],
      "text/plain": [
       "retention_7  False   True    All\n",
       "version                         \n",
       "gate_30       9348   7307  16655\n",
       "gate_40       7120   6707  13827\n",
       "All          16468  14014  30482"
      ]
     },
     "execution_count": 17,
     "metadata": {},
     "output_type": "execute_result"
    }
   ],
   "source": [
    "retention_7_c_table"
   ]
  },
  {
   "cell_type": "code",
   "execution_count": 18,
   "id": "66b63458-eb5d-4b8f-852b-d3fe723d9c3a",
   "metadata": {},
   "outputs": [],
   "source": [
    "retention_7_rfc_table = pd.crosstab(df[\"version\"], df[\"retention_7\"],\n",
    "                                   margins = True, normalize = True)"
   ]
  },
  {
   "cell_type": "code",
   "execution_count": 19,
   "id": "32a6cf80-3deb-4183-9d45-e140e457032a",
   "metadata": {},
   "outputs": [
    {
     "data": {
      "text/html": [
       "<div>\n",
       "<style scoped>\n",
       "    .dataframe tbody tr th:only-of-type {\n",
       "        vertical-align: middle;\n",
       "    }\n",
       "\n",
       "    .dataframe tbody tr th {\n",
       "        vertical-align: top;\n",
       "    }\n",
       "\n",
       "    .dataframe thead th {\n",
       "        text-align: right;\n",
       "    }\n",
       "</style>\n",
       "<table border=\"1\" class=\"dataframe\">\n",
       "  <thead>\n",
       "    <tr style=\"text-align: right;\">\n",
       "      <th>retention_7</th>\n",
       "      <th>False</th>\n",
       "      <th>True</th>\n",
       "      <th>All</th>\n",
       "    </tr>\n",
       "    <tr>\n",
       "      <th>version</th>\n",
       "      <th></th>\n",
       "      <th></th>\n",
       "      <th></th>\n",
       "    </tr>\n",
       "  </thead>\n",
       "  <tbody>\n",
       "    <tr>\n",
       "      <th>gate_30</th>\n",
       "      <td>0.306673</td>\n",
       "      <td>0.239715</td>\n",
       "      <td>0.546388</td>\n",
       "    </tr>\n",
       "    <tr>\n",
       "      <th>gate_40</th>\n",
       "      <td>0.233580</td>\n",
       "      <td>0.220031</td>\n",
       "      <td>0.453612</td>\n",
       "    </tr>\n",
       "    <tr>\n",
       "      <th>All</th>\n",
       "      <td>0.540253</td>\n",
       "      <td>0.459747</td>\n",
       "      <td>1.000000</td>\n",
       "    </tr>\n",
       "  </tbody>\n",
       "</table>\n",
       "</div>"
      ],
      "text/plain": [
       "retention_7     False      True       All\n",
       "version                                  \n",
       "gate_30      0.306673  0.239715  0.546388\n",
       "gate_40      0.233580  0.220031  0.453612\n",
       "All          0.540253  0.459747  1.000000"
      ]
     },
     "execution_count": 19,
     "metadata": {},
     "output_type": "execute_result"
    }
   ],
   "source": [
    "retention_7_rfc_table"
   ]
  },
  {
   "cell_type": "markdown",
   "id": "32c3beb5-ada6-4fb3-8870-ec98731d75b8",
   "metadata": {},
   "source": [
    "## Chi Square Test 수행"
   ]
  },
  {
   "cell_type": "code",
   "execution_count": 20,
   "id": "206cea15-9d38-4f48-b4ce-4e73a1c3789e",
   "metadata": {},
   "outputs": [],
   "source": [
    "chi2_statistics, p_value, _, _, = chi2_contingency(retention_7_c_table)"
   ]
  },
  {
   "cell_type": "code",
   "execution_count": 21,
   "id": "a2b097fc-efbb-4f1a-ad32-3af6f3a43d58",
   "metadata": {},
   "outputs": [
    {
     "name": "stdout",
     "output_type": "stream",
     "text": [
      "Chi Squeare Statistic : 65.31216510359596\n",
      "P-Value : 2.2116026997878394e-13\n",
      "귀무가설 기각 : True\n"
     ]
    }
   ],
   "source": [
    "print(f\"Chi Squeare Statistic : {chi2_statistics}\")\n",
    "print(f\"P-Value : {p_value}\")\n",
    "print(f\"귀무가설 기각 : {p_value < 0.05}\")"
   ]
  },
  {
   "cell_type": "markdown",
   "id": "e5281fd1-99a0-49cf-bf77-5528cdb272d9",
   "metadata": {
    "jp-MarkdownHeadingCollapsed": true
   },
   "source": [
    "# retention_1 / retention_7 - Chi Square Test"
   ]
  },
  {
   "cell_type": "markdown",
   "id": "cd778051-3577-4f90-a0d9-e3b816dba2c9",
   "metadata": {},
   "source": [
    "## 가설 설정"
   ]
  },
  {
   "cell_type": "markdown",
   "id": "32872643-0f6a-41cf-ae47-ffd2945b316e",
   "metadata": {},
   "source": [
    "귀무가설 : retention_1 과 retention_7은 독립이다.  \n",
    "대립가설 : retention_1 과 retention_7은 독립이 아니다."
   ]
  },
  {
   "cell_type": "markdown",
   "id": "919f1e01-2af3-485c-8679-98f7961c3cd5",
   "metadata": {},
   "source": [
    "## 분할표 및 상대 도수 분할표 그리기"
   ]
  },
  {
   "cell_type": "code",
   "execution_count": 24,
   "id": "ac5f8f1b-60c2-469d-9d44-63fdfeceefe6",
   "metadata": {},
   "outputs": [],
   "source": [
    "retention_c_table = pd.crosstab(df[\"retention_1\"], df[\"retention_7\"],\n",
    "                     margins = True)\n",
    "retention_rfc_table = pd.crosstab(df[\"retention_1\"], df[\"retention_7\"],\n",
    "                                   margins = True, normalize = True)"
   ]
  },
  {
   "cell_type": "code",
   "execution_count": 25,
   "id": "97332547-78a0-463c-8829-d028041c73e0",
   "metadata": {},
   "outputs": [
    {
     "data": {
      "text/html": [
       "<div>\n",
       "<style scoped>\n",
       "    .dataframe tbody tr th:only-of-type {\n",
       "        vertical-align: middle;\n",
       "    }\n",
       "\n",
       "    .dataframe tbody tr th {\n",
       "        vertical-align: top;\n",
       "    }\n",
       "\n",
       "    .dataframe thead th {\n",
       "        text-align: right;\n",
       "    }\n",
       "</style>\n",
       "<table border=\"1\" class=\"dataframe\">\n",
       "  <thead>\n",
       "    <tr style=\"text-align: right;\">\n",
       "      <th>retention_7</th>\n",
       "      <th>False</th>\n",
       "      <th>True</th>\n",
       "      <th>All</th>\n",
       "    </tr>\n",
       "    <tr>\n",
       "      <th>retention_1</th>\n",
       "      <th></th>\n",
       "      <th></th>\n",
       "      <th></th>\n",
       "    </tr>\n",
       "  </thead>\n",
       "  <tbody>\n",
       "    <tr>\n",
       "      <th>False</th>\n",
       "      <td>3535</td>\n",
       "      <td>2127</td>\n",
       "      <td>5662</td>\n",
       "    </tr>\n",
       "    <tr>\n",
       "      <th>True</th>\n",
       "      <td>12933</td>\n",
       "      <td>11887</td>\n",
       "      <td>24820</td>\n",
       "    </tr>\n",
       "    <tr>\n",
       "      <th>All</th>\n",
       "      <td>16468</td>\n",
       "      <td>14014</td>\n",
       "      <td>30482</td>\n",
       "    </tr>\n",
       "  </tbody>\n",
       "</table>\n",
       "</div>"
      ],
      "text/plain": [
       "retention_7  False   True    All\n",
       "retention_1                     \n",
       "False         3535   2127   5662\n",
       "True         12933  11887  24820\n",
       "All          16468  14014  30482"
      ]
     },
     "execution_count": 25,
     "metadata": {},
     "output_type": "execute_result"
    }
   ],
   "source": [
    "retention_c_table"
   ]
  },
  {
   "cell_type": "code",
   "execution_count": 26,
   "id": "50a06b6e-1348-469d-a0ed-8a717bcb43b7",
   "metadata": {},
   "outputs": [
    {
     "data": {
      "text/html": [
       "<div>\n",
       "<style scoped>\n",
       "    .dataframe tbody tr th:only-of-type {\n",
       "        vertical-align: middle;\n",
       "    }\n",
       "\n",
       "    .dataframe tbody tr th {\n",
       "        vertical-align: top;\n",
       "    }\n",
       "\n",
       "    .dataframe thead th {\n",
       "        text-align: right;\n",
       "    }\n",
       "</style>\n",
       "<table border=\"1\" class=\"dataframe\">\n",
       "  <thead>\n",
       "    <tr style=\"text-align: right;\">\n",
       "      <th>retention_7</th>\n",
       "      <th>False</th>\n",
       "      <th>True</th>\n",
       "      <th>All</th>\n",
       "    </tr>\n",
       "    <tr>\n",
       "      <th>retention_1</th>\n",
       "      <th></th>\n",
       "      <th></th>\n",
       "      <th></th>\n",
       "    </tr>\n",
       "  </thead>\n",
       "  <tbody>\n",
       "    <tr>\n",
       "      <th>False</th>\n",
       "      <td>0.115970</td>\n",
       "      <td>0.069779</td>\n",
       "      <td>0.185749</td>\n",
       "    </tr>\n",
       "    <tr>\n",
       "      <th>True</th>\n",
       "      <td>0.424283</td>\n",
       "      <td>0.389968</td>\n",
       "      <td>0.814251</td>\n",
       "    </tr>\n",
       "    <tr>\n",
       "      <th>All</th>\n",
       "      <td>0.540253</td>\n",
       "      <td>0.459747</td>\n",
       "      <td>1.000000</td>\n",
       "    </tr>\n",
       "  </tbody>\n",
       "</table>\n",
       "</div>"
      ],
      "text/plain": [
       "retention_7     False      True       All\n",
       "retention_1                              \n",
       "False        0.115970  0.069779  0.185749\n",
       "True         0.424283  0.389968  0.814251\n",
       "All          0.540253  0.459747  1.000000"
      ]
     },
     "execution_count": 26,
     "metadata": {},
     "output_type": "execute_result"
    }
   ],
   "source": [
    "retention_rfc_table"
   ]
  },
  {
   "cell_type": "markdown",
   "id": "a9eb898e-bf01-4213-8e99-e6e6fb71c334",
   "metadata": {},
   "source": [
    "## Chi Square Test 수행"
   ]
  },
  {
   "cell_type": "code",
   "execution_count": 27,
   "id": "17a94486-711c-479b-b70c-b7577f0393ff",
   "metadata": {},
   "outputs": [],
   "source": [
    "chi2_statistics, p_value, _, _, = chi2_contingency(retention_c_table)"
   ]
  },
  {
   "cell_type": "code",
   "execution_count": 28,
   "id": "49de60fd-15fc-468e-8315-7cc7abcfac10",
   "metadata": {},
   "outputs": [
    {
     "name": "stdout",
     "output_type": "stream",
     "text": [
      "Chi Squeare Statistic : 197.93683268915615\n",
      "P-Value : 1.0433396474397255e-41\n",
      "귀무가설 기각 : True\n"
     ]
    }
   ],
   "source": [
    "print(f\"Chi Squeare Statistic : {chi2_statistics}\")\n",
    "print(f\"P-Value : {p_value}\")\n",
    "print(f\"귀무가설 기각 : {p_value < 0.05}\")"
   ]
  },
  {
   "cell_type": "markdown",
   "id": "03219c18-ee55-4e71-9c3b-37cb8cf507f8",
   "metadata": {},
   "source": [
    "# Result"
   ]
  },
  {
   "cell_type": "markdown",
   "id": "2b01d864-c79d-460d-96fb-7ab233ec498b",
   "metadata": {},
   "source": [
    "### gate_30 접속율"
   ]
  },
  {
   "cell_type": "code",
   "execution_count": 24,
   "id": "e48a1ac7-ccd0-4e63-ac6e-4d930c27e1c7",
   "metadata": {},
   "outputs": [],
   "source": [
    "gate_30_retention_1_t = df[(df[\"version\"] == \"gate_30\") & (df[\"retention_1\"] == True)][\"retention_1\"].count()\n",
    "gate_30_retention_1_f = df[(df[\"version\"] == \"gate_30\") & (df[\"retention_1\"] == False)][\"retention_1\"].count()"
   ]
  },
  {
   "cell_type": "code",
   "execution_count": 25,
   "id": "f5ab8f79-c36b-4cf2-acc6-dd963c251677",
   "metadata": {},
   "outputs": [],
   "source": [
    "gate_30_retention_7_t = df[(df[\"version\"] == \"gate_30\") & (df[\"retention_7\"] == True)][\"retention_7\"].count()\n",
    "gate_30_retention_7_f = df[(df[\"version\"] == \"gate_30\") & (df[\"retention_7\"] == False)][\"retention_7\"].count()"
   ]
  },
  {
   "cell_type": "code",
   "execution_count": 26,
   "id": "effb25a8-efd4-4f92-a91b-9d1daf91c51a",
   "metadata": {},
   "outputs": [
    {
     "name": "stdout",
     "output_type": "stream",
     "text": [
      "1일 뒤 재접속 : 13341 \n",
      " 재접속 없음 : 3314\n"
     ]
    }
   ],
   "source": [
    "print(f\"1일 뒤 재접속 : {gate_30_retention_1_t} \\n 재접속 없음 : {gate_30_retention_1_f}\")"
   ]
  },
  {
   "cell_type": "code",
   "execution_count": 27,
   "id": "76c66337-f23a-4c11-b84b-9bd8942af244",
   "metadata": {},
   "outputs": [
    {
     "name": "stdout",
     "output_type": "stream",
     "text": [
      "7일 뒤 재접속 : 7307 \n",
      " 재접속 없음 : 9348\n"
     ]
    }
   ],
   "source": [
    "print(f\"7일 뒤 재접속 : {gate_30_retention_7_t} \\n 재접속 없음 : {gate_30_retention_7_f}\")"
   ]
  },
  {
   "cell_type": "code",
   "execution_count": 28,
   "id": "1fdb571d-d398-4e6c-a3d6-5998cdbd9a3b",
   "metadata": {},
   "outputs": [
    {
     "name": "stdout",
     "output_type": "stream",
     "text": [
      "1일 뒤 접속율 : 80.1%\n",
      "1일 뒤 미접속율 : 19.9%\n",
      "----------------------\n",
      "7일 뒤 접속율 : 43.87%\n",
      "7일 뒤 미접속율 : 56.13%\n"
     ]
    }
   ],
   "source": [
    "print(f\"1일 뒤 접속율 : {round((gate_30_retention_1_t / (gate_30_retention_1_t + gate_30_retention_1_f)) * 100, 2)}%\")\n",
    "print(f\"1일 뒤 미접속율 : {round((gate_30_retention_1_f / (gate_30_retention_1_t + gate_30_retention_1_f)) * 100, 2)}%\")\n",
    "print(\"----------------------\")\n",
    "print(f\"7일 뒤 접속율 : {round((gate_30_retention_7_t / (gate_30_retention_7_t + gate_30_retention_7_f)) * 100, 2)}%\")\n",
    "print(f\"7일 뒤 미접속율 : {round((gate_30_retention_7_f / (gate_30_retention_7_t + gate_30_retention_7_f)) * 100, 2)}%\")"
   ]
  },
  {
   "cell_type": "markdown",
   "id": "280948ae-d44e-4c2a-8bb4-eaf5d2350501",
   "metadata": {},
   "source": [
    "### gate_40 접속율"
   ]
  },
  {
   "cell_type": "code",
   "execution_count": 30,
   "id": "1ad93fb7-9990-42cb-996d-22e946da57bf",
   "metadata": {},
   "outputs": [],
   "source": [
    "gate_40_retention_1_t = df[(df[\"version\"] == \"gate_40\") & (df[\"retention_1\"] == True)][\"retention_1\"].count()\n",
    "gate_40_retention_1_f = df[(df[\"version\"] == \"gate_40\") & (df[\"retention_1\"] == False)][\"retention_1\"].count()"
   ]
  },
  {
   "cell_type": "code",
   "execution_count": 31,
   "id": "3a30647a-6a59-4899-b9ae-6eb0d6ab955a",
   "metadata": {},
   "outputs": [],
   "source": [
    "gate_40_retention_7_t = df[(df[\"version\"] == \"gate_40\") & (df[\"retention_7\"] == True)][\"retention_1\"].count()\n",
    "gate_40_retention_7_f = df[(df[\"version\"] == \"gate_40\") & (df[\"retention_7\"] == False)][\"retention_1\"].count()"
   ]
  },
  {
   "cell_type": "code",
   "execution_count": 32,
   "id": "cedea87f-f6c6-40eb-b206-1ef3342cb86a",
   "metadata": {},
   "outputs": [
    {
     "name": "stdout",
     "output_type": "stream",
     "text": [
      "1일 뒤 재접속 : 11479 \n",
      " 재접속 없음 : 2348\n"
     ]
    }
   ],
   "source": [
    "print(f\"1일 뒤 재접속 : {gate_40_retention_1_t} \\n 재접속 없음 : {gate_40_retention_1_f}\")"
   ]
  },
  {
   "cell_type": "code",
   "execution_count": 33,
   "id": "7908e210-c98c-4362-aaf4-adf0c4b9a87e",
   "metadata": {},
   "outputs": [
    {
     "name": "stdout",
     "output_type": "stream",
     "text": [
      "1일 뒤 재접속 : 6707 \n",
      " 재접속 없음 : 7120\n"
     ]
    }
   ],
   "source": [
    "print(f\"1일 뒤 재접속 : {gate_40_retention_7_t} \\n 재접속 없음 : {gate_40_retention_7_f}\")"
   ]
  },
  {
   "cell_type": "code",
   "execution_count": 34,
   "id": "2c62c8a7-7f7d-473a-9ee9-b056d732fc5e",
   "metadata": {},
   "outputs": [
    {
     "name": "stdout",
     "output_type": "stream",
     "text": [
      "1일 뒤 접속율 : 83.02%\n",
      "1일 뒤 미접속율 : 16.98%\n",
      "----------------------\n",
      "7일 뒤 접속율 : 48.51%\n",
      "7일 뒤 미접속율 : 51.49%\n"
     ]
    }
   ],
   "source": [
    "print(f\"1일 뒤 접속율 : {round((gate_40_retention_1_t / (gate_40_retention_1_t + gate_40_retention_1_f)) * 100, 2)}%\")\n",
    "print(f\"1일 뒤 미접속율 : {round((gate_40_retention_1_f / (gate_40_retention_1_t + gate_40_retention_1_f)) * 100, 2)}%\")\n",
    "print(\"----------------------\")\n",
    "print(f\"7일 뒤 접속율 : {round((gate_40_retention_7_t / (gate_40_retention_7_t + gate_40_retention_7_f)) * 100, 2)}%\")\n",
    "print(f\"7일 뒤 미접속율 : {round((gate_40_retention_7_f / (gate_40_retention_7_t + gate_40_retention_7_f)) * 100, 2)}%\")"
   ]
  },
  {
   "cell_type": "code",
   "execution_count": 43,
   "id": "1b90d494-9603-4bb5-a472-803fbde1a4ac",
   "metadata": {},
   "outputs": [],
   "source": [
    "tt = df[(df[\"retention_1\"] == True) & (df[\"retention_7\"] == True)][\"userid\"].count()"
   ]
  },
  {
   "cell_type": "code",
   "execution_count": 44,
   "id": "951439ed-bc30-466e-9232-db87be03d40c",
   "metadata": {},
   "outputs": [],
   "source": [
    "ff = df[(df[\"retention_1\"] == False) & (df[\"retention_7\"] == False)][\"userid\"].count()"
   ]
  },
  {
   "cell_type": "code",
   "execution_count": 45,
   "id": "fe4ee2ce-135e-4379-9158-6fb44915ef9a",
   "metadata": {},
   "outputs": [],
   "source": [
    "tf = df[(df[\"retention_1\"] == True) & (df[\"retention_7\"] == False)][\"userid\"].count()"
   ]
  },
  {
   "cell_type": "code",
   "execution_count": 46,
   "id": "f14c9c02-fc4b-42c8-a69a-f336eeb51f0f",
   "metadata": {},
   "outputs": [],
   "source": [
    "ft = df[(df[\"retention_1\"] == False) & (df[\"retention_7\"] == True)][\"userid\"].count()"
   ]
  },
  {
   "cell_type": "code",
   "execution_count": 49,
   "id": "268bc8b4-6ad3-4aa7-9154-e59ec69921bf",
   "metadata": {},
   "outputs": [
    {
     "name": "stdout",
     "output_type": "stream",
     "text": [
      "1일 후 접속한 유저 중 7일 후 접속한 유저 : 11887\n",
      "1일 후에 접속했지만 7일 후에 접속 안한 유저 : 12933\n",
      "1일 후에는 접속 안했지만 7일 후에는 접속한 유저 : 2127\n",
      "1일 후에도 7일 후에도 접속 안한 유저 : 3535\n"
     ]
    }
   ],
   "source": [
    "print(f\"1일 후 접속한 유저 중 7일 후 접속한 유저 : {tt}\")\n",
    "print(f\"1일 후에 접속했지만 7일 후에 접속 안한 유저 : {tf}\")\n",
    "print(f\"1일 후에는 접속 안했지만 7일 후에는 접속한 유저 : {ft}\")\n",
    "print(f\"1일 후에도 7일 후에도 접속 안한 유저 : {ff}\")"
   ]
  },
  {
   "cell_type": "code",
   "execution_count": 50,
   "id": "7b3f6bcd-49a0-4a73-b3fb-20b0ba71eafb",
   "metadata": {},
   "outputs": [],
   "source": [
    "gate_30_df = df[df[\"version\"] == \"gate_30\"]"
   ]
  },
  {
   "cell_type": "code",
   "execution_count": 56,
   "id": "965bb685-c0e2-4a07-91ec-f3abf8da398c",
   "metadata": {},
   "outputs": [],
   "source": [
    "gate_40_df = df[df[\"version\"] == \"gate_40\"]"
   ]
  },
  {
   "cell_type": "code",
   "execution_count": 59,
   "id": "f054ad11-9811-4374-8872-f696eb83ca6c",
   "metadata": {},
   "outputs": [
    {
     "data": {
      "text/plain": [
       "Text(0.5, 1.0, '< gate_30 유저의 retention 비율 >')"
      ]
     },
     "execution_count": 59,
     "metadata": {},
     "output_type": "execute_result"
    },
    {
     "data": {
      "image/png": "[encoded data removed]",
      "text/plain": [
       "<Figure size 640x480 with 1 Axes>"
      ]
     },
     "metadata": {},
     "output_type": "display_data"
    }
   ],
   "source": [
    "sns.countplot(data = gate_30_df, x = \"retention_1\", hue = \"retention_7\")\n",
    "plt.title(\"< gate_30 유저의 retention 비율 >\")"
   ]
  },
  {
   "cell_type": "code",
   "execution_count": 60,
   "id": "6ea0c8be-7ccb-408e-a1f2-1101da5f551c",
   "metadata": {},
   "outputs": [
    {
     "data": {
      "text/plain": [
       "Text(0.5, 1.0, '< gate_40 유저의 retention 비율 >')"
      ]
     },
     "execution_count": 60,
     "metadata": {},
     "output_type": "execute_result"
    },
    {
     "data": {
      "image/png": "[encoded data removed]",
      "text/plain": [
       "<Figure size 640x480 with 1 Axes>"
      ]
     },
     "metadata": {},
     "output_type": "display_data"
    }
   ],
   "source": [
    "sns.countplot(data = gate_40_df, x = \"retention_1\", hue = \"retention_7\")\n",
    "plt.title(\"< gate_40 유저의 retention 비율 >\")"
   ]
  },
  {
   "cell_type": "code",
   "execution_count": null,
   "id": "cf809e56-5429-4228-8e0b-580cf2ae3a91",
   "metadata": {},
   "outputs": [],
   "source": []
  }
 ],
 "metadata": {
  "kernelspec": {
   "display_name": "Python 3 (ipykernel)",
   "language": "python",
   "name": "python3"
  },
  "language_info": {
   "codemirror_mode": {
    "name": "ipython",
    "version": 3
   },
   "file_extension": ".py",
   "mimetype": "text/x-python",
   "name": "python",
   "nbconvert_exporter": "python",
   "pygments_lexer": "ipython3",
   "version": "3.12.4"
  }
 },
 "nbformat": 4,
 "nbformat_minor": 5
}
